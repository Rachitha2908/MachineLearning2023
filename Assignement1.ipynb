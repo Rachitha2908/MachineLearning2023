{
  "nbformat": 4,
  "nbformat_minor": 0,
  "metadata": {
    "colab": {
      "provenance": [],
      "authorship_tag": "ABX9TyOMOdQrQGjN+LSuUzWisZBI",
      "include_colab_link": true
    },
    "kernelspec": {
      "name": "python3",
      "display_name": "Python 3"
    },
    "language_info": {
      "name": "python"
    }
  },
  "cells": [
    {
      "cell_type": "markdown",
      "metadata": {
        "id": "view-in-github",
        "colab_type": "text"
      },
      "source": [
        "<a href=\"https://colab.research.google.com/github/Rachitha2908/MachineLearning2023/blob/main/Assignement1.ipynb\" target=\"_parent\"><img src=\"https://colab.research.google.com/assets/colab-badge.svg\" alt=\"Open In Colab\"/></a>"
      ]
    },
    {
      "cell_type": "code",
      "execution_count": 2,
      "metadata": {
        "colab": {
          "base_uri": "https://localhost:8080/"
        },
        "id": "GKn7r1-wkiUK",
        "outputId": "8d329fac-ec2f-48fa-adf2-a276b73f13c0"
      },
      "outputs": [
        {
          "output_type": "stream",
          "name": "stdout",
          "text": [
            "    Year_bought\n",
            "0          1995\n",
            "1          1990\n",
            "2          2022\n",
            "3          2021\n",
            "4          2005\n",
            "5          2008\n",
            "6          2009\n",
            "7          2010\n",
            "8          2012\n",
            "9          2015\n",
            "10         2016\n",
            "11         2022\n",
            "    Year_bought age_of_vechile Price_after_depreciation Conclusion\n",
            "0          1995             28             35714.285714      scrap\n",
            "1          1990             33             30303.030303      scrap\n",
            "2          2022              1                1000000.0    auction\n",
            "3          2021              2                 500000.0    auction\n",
            "4          2005             18             55555.555556      scrap\n",
            "5          2008             15             66666.666667      scrap\n",
            "6          2009             14             71428.571429      scrap\n",
            "7          2010             13             76923.076923      scrap\n",
            "8          2012             11             90909.090909      scrap\n",
            "9          2015              8                 125000.0      scrap\n",
            "10         2016              7            142857.142857      scrap\n",
            "11         2022              1                1000000.0    auction\n"
          ]
        }
      ],
      "source": [
        "import numpy as np\n",
        "import pandas as pd\n",
        "\n",
        "df=pd.read_csv('/content/Used_Car_Data.csv')\n",
        "print(df)\n",
        "df=df.assign(age_of_vechile=None)\n",
        "df=df.assign(Price_after_depreciation=None)\n",
        "df=df.assign(Conclusion=None)\n",
        "\n",
        "#print(df)\n",
        "cur_year=2023\n",
        "showroom_price=1000000\n",
        "for index,value in df['Year_bought'].iteritems():\n",
        "  age=cur_year-value\n",
        "  df.at[index, \"age_of_vechile\"] = age\n",
        "#print(df)\n",
        "for index,value in df['age_of_vechile'].iteritems():\n",
        "  p_a_d=showroom_price/value\n",
        "  df.at[index,\"Price_after_depreciation\"]=p_a_d\n",
        "#print(df)\n",
        "for index,value in df['Price_after_depreciation'].iteritems():\n",
        "  if value<500000:\n",
        "     df.at[index,\"Conclusion\"]=\"scrap\"\n",
        "  else:\n",
        "    df.at[index,\"Conclusion\"]=\"auction\"\n",
        "print(df)\n",
        "df.to_csv('final_result.csv')  \n"
      ]
    }
  ]
}