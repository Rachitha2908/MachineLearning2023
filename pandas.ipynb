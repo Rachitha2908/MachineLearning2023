{
  "nbformat": 4,
  "nbformat_minor": 0,
  "metadata": {
    "colab": {
      "provenance": [],
      "authorship_tag": "ABX9TyPAmOtmj34Ra1Jbwf2runH/",
      "include_colab_link": true
    },
    "kernelspec": {
      "name": "python3",
      "display_name": "Python 3"
    },
    "language_info": {
      "name": "python"
    }
  },
  "cells": [
    {
      "cell_type": "markdown",
      "metadata": {
        "id": "view-in-github",
        "colab_type": "text"
      },
      "source": [
        "<a href=\"https://colab.research.google.com/github/Rachitha2908/MachineLearning2023/blob/main/pandas.ipynb\" target=\"_parent\"><img src=\"https://colab.research.google.com/assets/colab-badge.svg\" alt=\"Open In Colab\"/></a>"
      ]
    },
    {
      "cell_type": "code",
      "execution_count": 5,
      "metadata": {
        "colab": {
          "base_uri": "https://localhost:8080/"
        },
        "id": "8R_oWg8omAGM",
        "outputId": "506c9253-a16b-4b7c-847a-5ac950bddc5e"
      },
      "outputs": [
        {
          "output_type": "stream",
          "name": "stdout",
          "text": [
            "   x  y  sum\n",
            "0  1  2    3\n",
            "1  3  4    7\n",
            "2  5  6   11\n"
          ]
        }
      ],
      "source": [
        "import pandas as pd\n",
        "import numpy as np\n",
        "my_data=np.array([[1,2],[3,4],[5,6]])\n",
        "my_column_names=['x','y']\n",
        "my_dataframe=pd.DataFrame(data=my_data , columns=my_column_names)\n",
        "my_dataframe['sum']=my_dataframe['x']+my_dataframe['y']\n",
        "print(my_dataframe)"
      ]
    },
    {
      "cell_type": "code",
      "source": [
        "import numpy as np\n",
        "import pandas as pd\n",
        "datas=np.array([[1,2,3],[4,5,6],[7,8,9]])\n",
        "columnss=['x','y','z']\n",
        "dataframee=pd.DataFrame(data=datas,columns=columnss)\n",
        "dataframee['sum']=dataframee['x']+dataframee['y']+dataframee['z']+3\n",
        "\n",
        "print(dataframee)"
      ],
      "metadata": {
        "colab": {
          "base_uri": "https://localhost:8080/"
        },
        "id": "oZApz-OCqtZa",
        "outputId": "d7a4574b-e286-4d8b-b356-cd0cb839798a"
      },
      "execution_count": 6,
      "outputs": [
        {
          "output_type": "stream",
          "name": "stdout",
          "text": [
            "   x  y  z  sum\n",
            "0  1  2  3    9\n",
            "1  4  5  6   18\n",
            "2  7  8  9   27\n"
          ]
        }
      ]
    },
    {
      "cell_type": "code",
      "source": [
        "df=pd.read_csv('/content/Book1_CSV1.csv')\n",
        "print(df)"
      ],
      "metadata": {
        "colab": {
          "base_uri": "https://localhost:8080/"
        },
        "id": "_SYXb4uc0b4H",
        "outputId": "af7f97d3-b5dd-4ea6-dcbc-95e924cfec02"
      },
      "execution_count": 7,
      "outputs": [
        {
          "output_type": "stream",
          "name": "stdout",
          "text": [
            "   col1  col2  col3\n",
            "0     1     4     5\n",
            "1     2     5     7\n",
            "2     3     6     9\n"
          ]
        }
      ]
    }
  ]
}